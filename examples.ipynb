{
 "cells": [
  {
   "cell_type": "code",
   "execution_count": null,
   "metadata": {
    "collapsed": true,
    "pycharm": {
     "is_executing": true
    }
   },
   "outputs": [],
   "source": [
    "from polyellipsoid import Ellipsoid, System, Simulation\n",
    "from cmeutils.gsd_utils import ellipsoid_gsd\n",
    "from cmeutils.structure import angle_distribution, gsd_rdf\n",
    "\n",
    "import matplotlib.pyplot as plt\n",
    "\n",
    "import warnings\n",
    "warnings.filterwarnings(\"ignore\")"
   ]
  },
  {
   "cell_type": "code",
   "execution_count": null,
   "outputs": [],
   "source": [
    "import os\n",
    "from datetime import datetime\n",
    "log_dir = \"logs/\"\n",
    "now = datetime.now()\n",
    "log_path = os.path.join(log_dir, now.strftime(\"%Y-%m-%d %H:%M:%S\"))\n",
    "\n",
    "\n",
    "if not os.path.exists(log_path):\n",
    "    os.mkdir(log_path)"
   ],
   "metadata": {
    "collapsed": false
   }
  },
  {
   "cell_type": "code",
   "execution_count": null,
   "outputs": [],
   "source": [
    "system = System(\n",
    "    n_chains=2,\n",
    "    chain_lengths=1,\n",
    "    bead_mass=1,\n",
    "    bead_length=1,\n",
    "    bond_length=0.01,\n",
    "    density=0.001,\n",
    ")\n",
    "\n",
    "system.pack(box_expand_factor=3)"
   ],
   "metadata": {
    "collapsed": false
   }
  },
  {
   "cell_type": "code",
   "execution_count": null,
   "outputs": [],
   "source": [
    "ml_model_dir= '/home/marjanalbooyeh/logs/ML/2023-02-13-14:06:02/model/best_model.pth'\n",
    "\n",
    "in_dim=7\n",
    "out_dim=3\n",
    "hidden_dim=256\n",
    "n_layer=3\n",
    "act_fn=\"ReLU\""
   ],
   "metadata": {
    "collapsed": false
   }
  },
  {
   "cell_type": "code",
   "execution_count": null,
   "outputs": [],
   "source": [
    "lpar = 3\n",
    "lperp = 4\n",
    "sim = Simulation(\n",
    "    system=system,\n",
    "    epsilon=1.0,\n",
    "    lperp=lperp,\n",
    "    lpar=lpar,\n",
    "    dt=0.005,\n",
    "    r_cut=2.5,\n",
    "    bond_k=0,\n",
    "    angle_k=0,\n",
    "    angle_theta=2.5,\n",
    "    seed=42,\n",
    "    gsd_write=1000,\n",
    "    log_write=1000,\n",
    "    hidden_dim=hidden_dim,\n",
    "    n_layers=n_layer,\n",
    "    best_model_path=ml_model_dir,\n",
    "    log_path=log_path\n",
    ")"
   ],
   "metadata": {
    "collapsed": false
   }
  },
  {
   "cell_type": "code",
   "execution_count": null,
   "outputs": [],
   "source": [
    "sim.run_NVT(kT=2.0, n_steps=1e6, tau_kt=0.01)"
   ],
   "metadata": {
    "collapsed": false
   }
  }
 ],
 "metadata": {
  "kernelspec": {
   "display_name": "Python 3",
   "language": "python",
   "name": "python3"
  },
  "language_info": {
   "codemirror_mode": {
    "name": "ipython",
    "version": 2
   },
   "file_extension": ".py",
   "mimetype": "text/x-python",
   "name": "python",
   "nbconvert_exporter": "python",
   "pygments_lexer": "ipython2",
   "version": "2.7.6"
  }
 },
 "nbformat": 4,
 "nbformat_minor": 0
}
