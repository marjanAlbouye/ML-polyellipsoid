{
 "cells": [
  {
   "cell_type": "code",
   "execution_count": 1,
   "metadata": {
    "pycharm": {
     "is_executing": true
    }
   },
   "outputs": [
    {
     "name": "stderr",
     "output_type": "stream",
     "text": [
      "Warning: importing 'simtk.openmm' is deprecated.  Import 'openmm' instead.\n"
     ]
    }
   ],
   "source": [
    "from polyellipsoid import Ellipsoid, System, Simulation\n",
    "from cmeutils.gsd_utils import ellipsoid_gsd\n",
    "from cmeutils.structure import angle_distribution, gsd_rdf\n",
    "\n",
    "import matplotlib.pyplot as plt\n",
    "\n",
    "import warnings\n",
    "warnings.filterwarnings(\"ignore\")"
   ]
  },
  {
   "cell_type": "code",
   "execution_count": 2,
   "metadata": {},
   "outputs": [],
   "source": [
    "import os\n",
    "from datetime import datetime\n",
    "log_dir = \"/home/marjanalbooyeh/logs/polyellipsoid/\"\n",
    "now = datetime.now()\n",
    "log_path = os.path.join(log_dir, now.strftime(\"%Y-%m-%d-%H:%M:%S\")) + '/'\n",
    "\n",
    "\n",
    "if not os.path.exists(log_path):\n",
    "    os.mkdir(log_path)"
   ]
  },
  {
   "cell_type": "code",
   "execution_count": 3,
   "metadata": {},
   "outputs": [],
   "source": [
    "system = System(\n",
    "    n_chains=2,\n",
    "    chain_lengths=1,\n",
    "    bead_mass=1,\n",
    "    bead_length=1,\n",
    "    bond_length=0.01,\n",
    "    density=0.001,\n",
    ")\n",
    "\n",
    "system.pack(box_expand_factor=3)"
   ]
  },
  {
   "cell_type": "code",
   "execution_count": 4,
   "metadata": {},
   "outputs": [],
   "source": [
    "ml_model_dir= '/home/marjanalbooyeh/logs/ML/2023-02-13-14:06:02/model/best_model.pth'\n",
    "\n",
    "in_dim=7\n",
    "out_dim=3\n",
    "hidden_dim=256\n",
    "n_layer=3\n",
    "act_fn=\"ReLU\""
   ]
  },
  {
   "cell_type": "code",
   "execution_count": 5,
   "metadata": {},
   "outputs": [],
   "source": [
    "lpar = 3\n",
    "lperp = 4\n",
    "sim = Simulation(\n",
    "    system=system,\n",
    "    epsilon=1.0,\n",
    "    lperp=lperp,\n",
    "    lpar=lpar,\n",
    "    dt=0.005,\n",
    "    r_cut=2.5,\n",
    "    bond_k=0,\n",
    "    angle_k=0,\n",
    "    angle_theta=2.5,\n",
    "    seed=42,\n",
    "    gsd_write=1000,\n",
    "    log_write=1000,\n",
    "    hidden_dim=hidden_dim,\n",
    "    n_layers=n_layer,\n",
    "    best_model_path=ml_model_dir,\n",
    "    log_path=log_path\n",
    ")"
   ]
  },
  {
   "cell_type": "code",
   "execution_count": 6,
   "metadata": {},
   "outputs": [],
   "source": [
    "sim.run_NVT(kT=1.1, n_steps=1e6, tau_kt=0.01)"
   ]
  },
  {
   "cell_type": "code",
   "execution_count": 7,
   "metadata": {},
   "outputs": [
    {
     "data": {
      "text/plain": [
       "1000000"
      ]
     },
     "execution_count": 7,
     "metadata": {},
     "output_type": "execute_result"
    }
   ],
   "source": [
    "sim.sim.timestep"
   ]
  },
  {
   "cell_type": "code",
   "execution_count": 8,
   "metadata": {},
   "outputs": [],
   "source": [
    "ellipsoid_gsd(gsd_file=log_path + \"sim_traj.gsd\", new_file=log_path + \"ellipsoids.gsd\", lpar=lpar, lperp=lperp)"
   ]
  },
  {
   "cell_type": "code",
   "execution_count": null,
   "metadata": {},
   "outputs": [],
   "source": []
  }
 ],
 "metadata": {
  "kernelspec": {
   "display_name": "Python 3 (ipykernel)",
   "language": "python",
   "name": "python3"
  },
  "language_info": {
   "codemirror_mode": {
    "name": "ipython",
    "version": 3
   },
   "file_extension": ".py",
   "mimetype": "text/x-python",
   "name": "python",
   "nbconvert_exporter": "python",
   "pygments_lexer": "ipython3",
   "version": "3.9.15"
  }
 },
 "nbformat": 4,
 "nbformat_minor": 1
}
